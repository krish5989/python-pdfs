{
 "cells": [
  {
   "cell_type": "code",
   "execution_count": 2,
   "metadata": {},
   "outputs": [],
   "source": [
    "import os\n",
    "from pathlib import Path\n",
    "from typing import Sequence\n",
    "from pylovepdf.ilovepdf import ILovePdf\n",
    "from pylovepdf.tools.merge import Merge"
   ]
  },
  {
   "cell_type": "code",
   "execution_count": 3,
   "metadata": {},
   "outputs": [],
   "source": [
    "_my_public_key = input(\"Enter your API public key: \")"
   ]
  },
  {
   "attachments": {},
   "cell_type": "markdown",
   "metadata": {},
   "source": [
    "## function to compress PDF"
   ]
  },
  {
   "cell_type": "code",
   "execution_count": 4,
   "metadata": {},
   "outputs": [],
   "source": [
    "\n",
    "def compress_pdf(input_pdf: Path, compression_lvl: str = \"recommended\") -> None:\n",
    "    \"\"\"\n",
    "    this function compresses the\n",
    "    input PDF and writes them\n",
    "    to given output path.\n",
    "\n",
    "    Args:\n",
    "    ----\n",
    "        input_pdf: (Path) - input PDF path with file.\n",
    "        compression_lvl: (str) - compression level\n",
    "        to reduce pdf file size. Defaults to recommended.\n",
    "        acceptable values are low, extreme and\n",
    "        recommended.\n",
    "    \"\"\"\n",
    "    # check input file existence:\n",
    "    if not os.path.isfile(input_pdf):\n",
    "        raise FileNotFoundError(f\"PDF {input_pdf} doesn't exist. please check path!\")\n",
    "    \n",
    "    # org file size:\n",
    "    org_file_size = os.path.getsize(input_pdf)\n",
    "\n",
    "    # get input file name:\n",
    "    file_name = os.path.splitext(os.path.basename(input_pdf))[0]\n",
    "    folder_name = os.path.dirname(input_pdf)\n",
    "    \n",
    "    # initialize ilovepdf:\n",
    "    ilovepdf = ILovePdf(_my_public_key, verify_ssl=True)\n",
    "\n",
    "    # create compress task:\n",
    "    task = ilovepdf.new_task(\"compress\")\n",
    "    task.add_file(input_pdf)\n",
    "    task.debug = False\n",
    "    task.compression_level = compression_lvl\n",
    "    task.set_output_folder(folder_name)\n",
    "\n",
    "    # start task:\n",
    "    task.execute()\n",
    "    output_file = task.download()\n",
    "    task.delete_current_task()\n",
    "\n",
    "    # output info:\n",
    "    output= os.path.join(folder_name, output_file)\n",
    "    print(f\"output compressed file: {output}\")\n",
    "\n",
    "    # compressed file size and compression ratio:\n",
    "    cmp_file_size = os.path.getsize(os.path.join(folder_name, output_file))\n",
    "    cmp_ratio = 1 - (cmp_file_size/org_file_size)\n",
    "\n",
    "    # convert bytes to KB:\n",
    "    print(f\"\"\"------\n",
    "original file size: {(org_file_size/1024):.3f} KB\n",
    "compressed file size: {(cmp_file_size/1024):.3f} KB\n",
    "compression ratio: {cmp_ratio:.3f}\"\"\")\n"
   ]
  },
  {
   "attachments": {},
   "cell_type": "markdown",
   "metadata": {},
   "source": [
    "## function to merge pdf"
   ]
  },
  {
   "cell_type": "code",
   "execution_count": 5,
   "metadata": {},
   "outputs": [],
   "source": [
    "def merge_pdf(pdf_files: Sequence[Path], merged_pdf_path: Path = './merged_output/') -> Path:\n",
    "    \"\"\"\n",
    "    this function can be used to merge pdf\n",
    "    files provided in the same sequence as \n",
    "    passed to argument pdf_files\n",
    "\n",
    "    Args:\n",
    "        pdf_files (Sequence[Path]): pdf files to be\n",
    "        merged.\n",
    "    Returns:\n",
    "        output (Path): absolute merged output file\n",
    "    \"\"\"\n",
    "    if len(pdf_files) < 2:\n",
    "        raise ValueError(\"Minimum two pdf files required for merge\")\n",
    "\n",
    "    # initialize merge task:\n",
    "    task = Merge(_my_public_key, verify_ssl=True, proxies=None)\n",
    "    \n",
    "    # merge files provided in pdf_files in same seq:\n",
    "    for _file in pdf_files:\n",
    "        task.add_file(_file)\n",
    "\n",
    "    task.debug = False\n",
    "    task.set_output_folder(merged_pdf_path)\n",
    "    \n",
    "    # start task:\n",
    "    task.execute()\n",
    "    output_file = task.download()\n",
    "    task.delete_current_task()\n",
    "\n",
    "    # output file:\n",
    "    output = os.path.join(merged_pdf_path, output_file)\n",
    "\n",
    "    # print output:\n",
    "    print(f\"merged output file: {output}\")\n",
    "\n",
    "    return output"
   ]
  },
  {
   "attachments": {},
   "cell_type": "markdown",
   "metadata": {},
   "source": [
    "## merge and compress function"
   ]
  },
  {
   "cell_type": "code",
   "execution_count": 9,
   "metadata": {},
   "outputs": [],
   "source": [
    "def merge_and_compress_pdf(pdf_files: Sequence[Path], compression_lvl: str = \"recommended\") -> None:\n",
    "    \"\"\"\n",
    "    this function can be used to\n",
    "    combine pdf files and compress\n",
    "    the output merged pdf\n",
    "\n",
    "    Args:\n",
    "        pdf_files (Sequence[Path]): input pdf files\n",
    "        compression_lvl (str, optional): compression level for\n",
    "        merged pdf. Defaults to \"recommended\".\n",
    "    \"\"\"\n",
    "    _merged_file = merge_pdf(pdf_files=pdf_files)\n",
    "    compress_pdf(_merged_file, compression_lvl)\n",
    "    "
   ]
  },
  {
   "attachments": {},
   "cell_type": "markdown",
   "metadata": {},
   "source": [
    "#### Passing input pdf file from ../pdf-doc folder to create compressed pdf output with reduced size:"
   ]
  },
  {
   "cell_type": "code",
   "execution_count": 27,
   "metadata": {},
   "outputs": [
    {
     "name": "stdout",
     "output_type": "stream",
     "text": [
      "Uploading file...\n",
      "File uploaded! Below file stats:\n",
      "download_filename: python_basics_sample_chapters_compress_02-01-2023.pdf \n",
      "filesize: 1556490 \n",
      "output_extensions: [\"pdf\"] \n",
      "output_filenumber: 1 \n",
      "output_filesize: 690451 \n",
      "status: TaskSuccess \n",
      "timer: 0.565 \n",
      "\n",
      "Downloading processed file...\n",
      "File downloaded!\n",
      "Task delete status: 200 \n",
      "\n",
      "output compressed file: ./pdf-doc/docs-pdf/basics_sample_chapters_compress_02-01-2023.pdf\n",
      "------\n",
      "original file size: 1520.010 KB\n",
      "compressed file size: 674.269 KB\n",
      "compression ratio: 0.556\n"
     ]
    }
   ],
   "source": [
    "compress_pdf(input_pdf='./pdf-doc/docs-pdf/python_basics_sample_chapters.pdf', compression_lvl=\"extreme\")"
   ]
  },
  {
   "attachments": {},
   "cell_type": "markdown",
   "metadata": {},
   "source": [
    "#### Merge two or more pdf files"
   ]
  },
  {
   "cell_type": "code",
   "execution_count": 25,
   "metadata": {},
   "outputs": [
    {
     "name": "stdout",
     "output_type": "stream",
     "text": [
      "Uploading file...\n",
      "File uploaded! Below file stats:\n",
      "download_filename: merged_merge_02-01-2023.pdf \n",
      "filesize: 82731 \n",
      "output_extensions: [\"pdf\"] \n",
      "output_filenumber: 1 \n",
      "output_filesize: 0 \n",
      "status: TaskSuccess \n",
      "timer: 0.122 \n",
      "\n",
      "Downloading processed file...\n",
      "File downloaded!\n",
      "Task delete status: 200 \n",
      "\n",
      "merged output file: ./merged_output/merge_02-01-2023.pdf\n"
     ]
    }
   ],
   "source": [
    "pdf_files = ['./pdf-doc/docs-pdf/test_1.pdf', './pdf-doc/docs-pdf/test_2.pdf']\n",
    "\n",
    "merge_pdf(pdf_files=pdf_files)"
   ]
  },
  {
   "attachments": {},
   "cell_type": "markdown",
   "metadata": {},
   "source": [
    "#### Merge and compress pdfs"
   ]
  },
  {
   "cell_type": "code",
   "execution_count": 10,
   "metadata": {},
   "outputs": [
    {
     "name": "stdout",
     "output_type": "stream",
     "text": [
      "Uploading file...\n",
      "File uploaded! Below file stats:\n",
      "download_filename: merged_merge_03-01-2023.pdf \n",
      "filesize: 1639221 \n",
      "output_extensions: [\"pdf\"] \n",
      "output_filenumber: 1 \n",
      "output_filesize: 0 \n",
      "status: TaskSuccess \n",
      "timer: 0.162 \n",
      "\n",
      "Downloading processed file...\n",
      "File downloaded!\n",
      "Task delete status: 200 \n",
      "\n",
      "merged output file: ./merged_output/merge_03-01-2023.pdf\n",
      "Uploading file...\n",
      "File uploaded! Below file stats:\n",
      "download_filename: merge_03-01-2023_compress_03-01-2023.pdf \n",
      "filesize: 1618576 \n",
      "output_extensions: [\"pdf\"] \n",
      "output_filenumber: 1 \n",
      "output_filesize: 750967 \n",
      "status: TaskSuccess \n",
      "timer: 0.963 \n",
      "\n",
      "Downloading processed file...\n",
      "File downloaded!\n",
      "Task delete status: 200 \n",
      "\n",
      "output compressed file: ./merged_output/03-01-2023_compress_03-01-2023.pdf\n",
      "------\n",
      "original file size: 1580.641 KB\n",
      "compressed file size: 733.366 KB\n",
      "compression ratio: 0.536\n"
     ]
    }
   ],
   "source": [
    "pdf_files = ['./pdf-doc/docs-pdf/python_basics_sample_chapters.pdf', './pdf-doc/docs-pdf/test_1.pdf', './pdf-doc/docs-pdf/test_2.pdf']\n",
    "\n",
    "merge_and_compress_pdf(pdf_files=pdf_files, compression_lvl=\"extreme\")"
   ]
  },
  {
   "cell_type": "code",
   "execution_count": null,
   "metadata": {},
   "outputs": [],
   "source": []
  }
 ],
 "metadata": {
  "kernelspec": {
   "display_name": "pypdf",
   "language": "python",
   "name": "python3"
  },
  "language_info": {
   "codemirror_mode": {
    "name": "ipython",
    "version": 3
   },
   "file_extension": ".py",
   "mimetype": "text/x-python",
   "name": "python",
   "nbconvert_exporter": "python",
   "pygments_lexer": "ipython3",
   "version": "3.9.6 (default, Oct 18 2022, 12:41:40) \n[Clang 14.0.0 (clang-1400.0.29.202)]"
  },
  "orig_nbformat": 4,
  "vscode": {
   "interpreter": {
    "hash": "054078b4fdb9de1cacd6e8465a401c9bdec8308a58766eee8f964fdcb57beefd"
   }
  }
 },
 "nbformat": 4,
 "nbformat_minor": 2
}
