{
 "cells": [
  {
   "cell_type": "code",
   "execution_count": 31,
   "metadata": {},
   "outputs": [],
   "source": [
    "import os\n",
    "from pathlib import Path\n",
    "from typing import Sequence\n",
    "from pylovepdf.ilovepdf import ILovePdf\n",
    "from pylovepdf.tools.merge import Merge\n"
   ]
  },
  {
   "cell_type": "code",
   "execution_count": 29,
   "metadata": {},
   "outputs": [],
   "source": [
    "_my_public_key = \"<INSERT YOUR PUBLIC KEY HERE>\""
   ]
  },
  {
   "attachments": {},
   "cell_type": "markdown",
   "metadata": {},
   "source": [
    "## function to compress PDF"
   ]
  },
  {
   "cell_type": "code",
   "execution_count": 30,
   "metadata": {},
   "outputs": [],
   "source": [
    "\n",
    "def compress_pdf(input_pdf: Path, compression_lvl: str = \"low\") -> None:\n",
    "    \"\"\"\n",
    "    this function compresses the\n",
    "    input PDF and writes them\n",
    "    to given output path.\n",
    "\n",
    "    Args:\n",
    "    ----\n",
    "        input_pdf: (Path) - input PDF path with file.\n",
    "        compression_lvl: (str) - compression level\n",
    "        to reduce pdf file size. Defaults to low.\n",
    "        acceptable values are low, extreme and\n",
    "        recommended.\n",
    "    \"\"\"\n",
    "    # check input file existence:\n",
    "    if not os.path.isfile(input_pdf):\n",
    "        raise FileNotFoundError(f\"PDF {input_pdf} doesn't exist. please check path!\")\n",
    "\n",
    "    # get input file name:\n",
    "    file_name = os.path.splitext(os.path.basename(input_pdf))[0]\n",
    "    folder_name = os.path.dirname(input_pdf)\n",
    "    \n",
    "    # initialize ilovepdf:\n",
    "    ilovepdf = ILovePdf(_my_public_key, verify_ssl=True)\n",
    "\n",
    "    # create compress task:\n",
    "    task = ilovepdf.new_task(\"compress\")\n",
    "    task.add_file(input_pdf)\n",
    "    task.debug = False\n",
    "    task.compression_level = compression_lvl\n",
    "    task.set_output_folder(folder_name)\n",
    "\n",
    "    # start task:\n",
    "    task.execute()\n",
    "    task.download()\n",
    "    task.delete_current_task()\n"
   ]
  },
  {
   "attachments": {},
   "cell_type": "markdown",
   "metadata": {},
   "source": [
    "## function to merge pdf"
   ]
  },
  {
   "cell_type": "code",
   "execution_count": 34,
   "metadata": {},
   "outputs": [],
   "source": [
    "def merge_pdf(pdf_files: Sequence[Path], merged_pdf_path: Path = './merged_output/') -> None:\n",
    "    \"\"\"\n",
    "    this function can be used to merge pdf\n",
    "    files provided in the same sequence as \n",
    "    passed to argument pdf_files\n",
    "\n",
    "    Args:\n",
    "        pdf_files (Sequence[Path]): pdf files to be\n",
    "        merged.\n",
    "    \"\"\"\n",
    "    if len(pdf_files) < 2:\n",
    "        raise ValueError(\"Minimum two pdf files required for merge\")\n",
    "\n",
    "    # initialize merge task:\n",
    "    task = Merge(_my_public_key, verify_ssl=True, proxies=None)\n",
    "    \n",
    "    # merge files provided in pdf_files in same seq:\n",
    "    for _file in pdf_files:\n",
    "        task.add_file(_file)\n",
    "\n",
    "    task.debug = False\n",
    "    task.set_output_folder(merged_pdf_path)\n",
    "    \n",
    "    # start task:\n",
    "    task.execute()\n",
    "    task.download()\n",
    "    task.delete_current_task()"
   ]
  },
  {
   "attachments": {},
   "cell_type": "markdown",
   "metadata": {},
   "source": [
    "#### Passing input pdf file from ../pdf-doc folder to create compressed pdf output with reduced size:"
   ]
  },
  {
   "cell_type": "code",
   "execution_count": 28,
   "metadata": {},
   "outputs": [
    {
     "name": "stdout",
     "output_type": "stream",
     "text": [
      "Uploading file...\n",
      "File uploaded! Below file stats:\n",
      "download_filename: python-basics-sample-chapters_compress_02-01-2023.pdf \n",
      "filesize: 1556490 \n",
      "output_extensions: [\"pdf\"] \n",
      "output_filenumber: 1 \n",
      "output_filesize: 770870 \n",
      "status: TaskSuccess \n",
      "timer: 0.906 \n",
      "\n",
      "Downloading processed file...\n",
      "File downloaded!\n",
      "Task delete status: 200 \n",
      "\n"
     ]
    }
   ],
   "source": [
    "compress_pdf(input_pdf='/Users/sukakrish/krish-workspace/python-pdfs/pdf-doc/docs-pdf/python-basics-sample-chapters.pdf', compression_lvl=\"recommended\")"
   ]
  },
  {
   "attachments": {},
   "cell_type": "markdown",
   "metadata": {},
   "source": [
    "#### Merge two or more pdf files"
   ]
  },
  {
   "cell_type": "code",
   "execution_count": 36,
   "metadata": {},
   "outputs": [
    {
     "name": "stdout",
     "output_type": "stream",
     "text": [
      "Uploading file...\n",
      "File uploaded! Below file stats:\n",
      "download_filename: merged_merge_02-01-2023.pdf \n",
      "filesize: 82731 \n",
      "output_extensions: [\"pdf\"] \n",
      "output_filenumber: 1 \n",
      "output_filesize: 0 \n",
      "status: TaskSuccess \n",
      "timer: 0.148 \n",
      "\n",
      "Downloading processed file...\n",
      "File downloaded!\n",
      "Task delete status: 200 \n",
      "\n"
     ]
    }
   ],
   "source": [
    "pdf_files = ['./pdf-doc/docs-pdf/test_1.pdf', './pdf-doc/docs-pdf/test_2.pdf']\n",
    "\n",
    "merge_pdf(pdf_files=pdf_files)"
   ]
  },
  {
   "cell_type": "code",
   "execution_count": null,
   "metadata": {},
   "outputs": [],
   "source": []
  }
 ],
 "metadata": {
  "kernelspec": {
   "display_name": "pypdf",
   "language": "python",
   "name": "python3"
  },
  "language_info": {
   "codemirror_mode": {
    "name": "ipython",
    "version": 3
   },
   "file_extension": ".py",
   "mimetype": "text/x-python",
   "name": "python",
   "nbconvert_exporter": "python",
   "pygments_lexer": "ipython3",
   "version": "3.9.6"
  },
  "orig_nbformat": 4,
  "vscode": {
   "interpreter": {
    "hash": "054078b4fdb9de1cacd6e8465a401c9bdec8308a58766eee8f964fdcb57beefd"
   }
  }
 },
 "nbformat": 4,
 "nbformat_minor": 2
}
